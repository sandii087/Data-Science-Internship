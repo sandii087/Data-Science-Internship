{
 "cells": [
  {
   "cell_type": "code",
   "execution_count": 1,
   "id": "384123f4-cf2c-4830-b23b-a4e181d3d3b2",
   "metadata": {},
   "outputs": [
    {
     "name": "stdout",
     "output_type": "stream",
     "text": [
      "Hello Sandeep, this is my first Python notebook!\n"
     ]
    }
   ],
   "source": [
    "print(\"Hello Sandeep, this is my first Python notebook!\")\n"
   ]
  }
 ],
 "metadata": {
  "kernelspec": {
   "display_name": "Python [conda env:datascienceinternship]",
   "language": "python",
   "name": "conda-env-datascienceinternship-py"
  },
  "language_info": {
   "codemirror_mode": {
    "name": "ipython",
    "version": 3
   },
   "file_extension": ".py",
   "mimetype": "text/x-python",
   "name": "python",
   "nbconvert_exporter": "python",
   "pygments_lexer": "ipython3",
   "version": "3.13.5"
  }
 },
 "nbformat": 4,
 "nbformat_minor": 5
}
