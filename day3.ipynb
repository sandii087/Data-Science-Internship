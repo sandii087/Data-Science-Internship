{
  "nbformat": 4,
  "nbformat_minor": 0,
  "metadata": {
    "colab": {
      "provenance": [],
      "authorship_tag": "ABX9TyNvcNeF4HDXTUg/ytg572TW",
      "include_colab_link": true
    },
    "kernelspec": {
      "name": "python3",
      "display_name": "Python 3"
    },
    "language_info": {
      "name": "python"
    }
  },
  "cells": [
    {
      "cell_type": "markdown",
      "metadata": {
        "id": "view-in-github",
        "colab_type": "text"
      },
      "source": [
        "<a href=\"https://colab.research.google.com/github/sandii087/Data-Science-Internship/blob/main/day3.ipynb\" target=\"_parent\"><img src=\"https://colab.research.google.com/assets/colab-badge.svg\" alt=\"Open In Colab\"/></a>"
      ]
    },
    {
      "cell_type": "code",
      "execution_count": 2,
      "metadata": {
        "id": "_kaif0WbjFmL",
        "colab": {
          "base_uri": "https://localhost:8080/"
        },
        "outputId": "f9938a8e-1178-4670-df34-313a2b4c7ff0"
      },
      "outputs": [
        {
          "output_type": "stream",
          "name": "stdout",
          "text": [
            "cricket\n",
            "football\n",
            "hockey\n"
          ]
        }
      ],
      "source": [
        "sports = [\"cricket\", \"football\", \"hockey\"]\n",
        "for x in sports:\n",
        "  print(x)\n"
      ]
    },
    {
      "cell_type": "code",
      "source": [
        "\n",
        "for x in sports:\n",
        "  print(x)\n",
        "  if x == \"football\":\n",
        "    break\n",
        ""
      ],
      "metadata": {
        "colab": {
          "base_uri": "https://localhost:8080/"
        },
        "id": "HTq-AsGgo6zN",
        "outputId": "1d180a7d-1273-41c3-d906-48e03c16a245"
      },
      "execution_count": 5,
      "outputs": [
        {
          "output_type": "stream",
          "name": "stdout",
          "text": [
            "cricket\n",
            "football\n"
          ]
        }
      ]
    },
    {
      "cell_type": "code",
      "source": [
        "for x in sports:\n",
        "  print(x)\n",
        "  if x == \"football\":\n",
        "    continue"
      ],
      "metadata": {
        "colab": {
          "base_uri": "https://localhost:8080/"
        },
        "id": "bJ0lbWrWpm8I",
        "outputId": "61399c54-b042-4d9f-ded3-36ca966e6ed7"
      },
      "execution_count": 6,
      "outputs": [
        {
          "output_type": "stream",
          "name": "stdout",
          "text": [
            "cricket\n",
            "football\n",
            "hockey\n"
          ]
        }
      ]
    },
    {
      "cell_type": "markdown",
      "source": [
        "while loop: with the while loop we can execute a set of statement as long as condition is true."
      ],
      "metadata": {
        "id": "uhartWufrdwB"
      }
    },
    {
      "cell_type": "code",
      "source": [
        "num = 1\n",
        "while num < 6:\n",
        "  print(num)\n",
        "  num += 1"
      ],
      "metadata": {
        "colab": {
          "base_uri": "https://localhost:8080/"
        },
        "id": "DGV3yo4SsM6_",
        "outputId": "70945b80-707b-45bf-cac6-35acb8c48bb1"
      },
      "execution_count": 7,
      "outputs": [
        {
          "output_type": "stream",
          "name": "stdout",
          "text": [
            "1\n",
            "2\n",
            "3\n",
            "4\n",
            "5\n"
          ]
        }
      ]
    },
    {
      "cell_type": "code",
      "source": [
        "num = 1\n",
        "while num < 15:\n",
        "  print(num)\n",
        "  if num == 11:\n",
        "    break\n",
        "  num +=1"
      ],
      "metadata": {
        "colab": {
          "base_uri": "https://localhost:8080/"
        },
        "id": "Nj2y8-NweDah",
        "outputId": "d308b67e-ac3a-4a2c-b145-e7dc86f74260"
      },
      "execution_count": 18,
      "outputs": [
        {
          "output_type": "stream",
          "name": "stdout",
          "text": [
            "1\n",
            "2\n",
            "3\n",
            "4\n",
            "5\n",
            "6\n",
            "7\n",
            "8\n",
            "9\n",
            "10\n",
            "11\n"
          ]
        }
      ]
    }
  ]
}